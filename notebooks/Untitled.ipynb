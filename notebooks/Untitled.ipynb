{
 "cells": [
  {
   "cell_type": "raw",
   "id": "7506dc2379259998",
   "metadata": {},
   "source": ""
  },
  {
   "metadata": {
    "ExecuteTime": {
     "end_time": "2025-08-22T01:03:42.629541Z",
     "start_time": "2025-08-22T01:03:42.146149Z"
    }
   },
   "cell_type": "code",
   "source": [
    "import pandas as pd, numpy as np\n",
    "from sklearn.datasets import fetch_california_housing\n",
    "\n",
    "# OPTION A: Local CSV (Ames)\n",
    "# df = pd.read_csv(\"data/ames.csv\")\n",
    "\n",
    "# OPTION B: California Housing (built-in)\n",
    "cal = fetch_california_housing(as_frame=True)\n",
    "df = cal.frame\n",
    "df.head(), df.describe().T.iloc[:5]\n"
   ],
   "id": "461a4ae853ec73ae",
   "outputs": [
    {
     "data": {
      "text/plain": [
       "(   MedInc  HouseAge  AveRooms  AveBedrms  Population  AveOccup  Latitude  \\\n",
       " 0  8.3252      41.0  6.984127   1.023810       322.0  2.555556     37.88   \n",
       " 1  8.3014      21.0  6.238137   0.971880      2401.0  2.109842     37.86   \n",
       " 2  7.2574      52.0  8.288136   1.073446       496.0  2.802260     37.85   \n",
       " 3  5.6431      52.0  5.817352   1.073059       558.0  2.547945     37.85   \n",
       " 4  3.8462      52.0  6.281853   1.081081       565.0  2.181467     37.85   \n",
       " \n",
       "    Longitude  MedHouseVal  \n",
       " 0    -122.23        4.526  \n",
       " 1    -122.22        3.585  \n",
       " 2    -122.24        3.521  \n",
       " 3    -122.25        3.413  \n",
       " 4    -122.25        3.422  ,\n",
       "               count         mean          std       min         25%  \\\n",
       " MedInc      20640.0     3.870671     1.899822  0.499900    2.563400   \n",
       " HouseAge    20640.0    28.639486    12.585558  1.000000   18.000000   \n",
       " AveRooms    20640.0     5.429000     2.474173  0.846154    4.440716   \n",
       " AveBedrms   20640.0     1.096675     0.473911  0.333333    1.006079   \n",
       " Population  20640.0  1425.476744  1132.462122  3.000000  787.000000   \n",
       " \n",
       "                     50%          75%           max  \n",
       " MedInc         3.534800     4.743250     15.000100  \n",
       " HouseAge      29.000000    37.000000     52.000000  \n",
       " AveRooms       5.229129     6.052381    141.909091  \n",
       " AveBedrms      1.048780     1.099526     34.066667  \n",
       " Population  1166.000000  1725.000000  35682.000000  )"
      ]
     },
     "execution_count": 1,
     "metadata": {},
     "output_type": "execute_result"
    }
   ],
   "execution_count": 1
  },
  {
   "metadata": {},
   "cell_type": "code",
   "outputs": [],
   "execution_count": null,
   "source": "",
   "id": "a2ae5c5f785316bf"
  }
 ],
 "metadata": {
  "kernelspec": {
   "display_name": "Python (housing-prices)",
   "language": "python",
   "name": "housing-prices"
  },
  "language_info": {
   "codemirror_mode": {
    "name": "ipython",
    "version": 3
   },
   "file_extension": ".py",
   "mimetype": "text/x-python",
   "name": "python",
   "nbconvert_exporter": "python",
   "pygments_lexer": "ipython3",
   "version": "3.13.5"
  }
 },
 "nbformat": 4,
 "nbformat_minor": 5
}
